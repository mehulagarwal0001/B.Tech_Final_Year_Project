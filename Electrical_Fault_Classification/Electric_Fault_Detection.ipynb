{
 "cells": [
  {
   "cell_type": "code",
   "execution_count": 1,
   "id": "df99f1fc",
   "metadata": {},
   "outputs": [],
   "source": [
    "!pip install numpy pandas matplotlib seaborn plotly opendatasets --quiet"
   ]
  },
  {
   "cell_type": "code",
   "execution_count": 2,
   "id": "57f8bb74",
   "metadata": {},
   "outputs": [],
   "source": [
    "from numpy.fft import rfft, rfftfreq\n",
    "from sklearn import preprocessing\n",
    "import os\n",
    "import pandas as pd\n",
    "import numpy as np\n",
    "import glob\n",
    "import timeit\n",
    "from sklearn.preprocessing import MinMaxScaler\n",
    "from sklearn.neighbors import KNeighborsClassifier\n",
    "import matplotlib.pyplot as plt\n",
    "from sklearn.model_selection import train_test_split\n",
    "from sklearn.svm import SVC\n",
    "from sklearn.metrics import accuracy_score\n",
    "from sklearn.ensemble import GradientBoostingRegressor\n",
    "from sklearn.metrics import mean_squared_error"
   ]
  },
  {
   "cell_type": "code",
   "execution_count": 3,
   "id": "8bead145",
   "metadata": {},
   "outputs": [],
   "source": [
    "df = pd.read_csv('Electric Data.csv',header=None)\n",
    "df.drop(df.columns[7:], axis=1, inplace=True)"
   ]
  },
  {
   "cell_type": "code",
   "execution_count": 4,
   "id": "9816cd19",
   "metadata": {},
   "outputs": [
    {
     "data": {
      "text/html": [
       "<div>\n",
       "<style scoped>\n",
       "    .dataframe tbody tr th:only-of-type {\n",
       "        vertical-align: middle;\n",
       "    }\n",
       "\n",
       "    .dataframe tbody tr th {\n",
       "        vertical-align: top;\n",
       "    }\n",
       "\n",
       "    .dataframe thead th {\n",
       "        text-align: right;\n",
       "    }\n",
       "</style>\n",
       "<table border=\"1\" class=\"dataframe\">\n",
       "  <thead>\n",
       "    <tr style=\"text-align: right;\">\n",
       "      <th></th>\n",
       "      <th>0</th>\n",
       "      <th>1</th>\n",
       "      <th>2</th>\n",
       "      <th>3</th>\n",
       "      <th>4</th>\n",
       "      <th>5</th>\n",
       "      <th>6</th>\n",
       "    </tr>\n",
       "  </thead>\n",
       "  <tbody>\n",
       "    <tr>\n",
       "      <th>0</th>\n",
       "      <td>0</td>\n",
       "      <td>2.661025</td>\n",
       "      <td>2.624276</td>\n",
       "      <td>2.701274</td>\n",
       "      <td>0.490768</td>\n",
       "      <td>0.478549</td>\n",
       "      <td>0.493368</td>\n",
       "    </tr>\n",
       "    <tr>\n",
       "      <th>1</th>\n",
       "      <td>0</td>\n",
       "      <td>2.660319</td>\n",
       "      <td>2.624661</td>\n",
       "      <td>2.700700</td>\n",
       "      <td>0.491114</td>\n",
       "      <td>0.478722</td>\n",
       "      <td>0.492584</td>\n",
       "    </tr>\n",
       "    <tr>\n",
       "      <th>2</th>\n",
       "      <td>0</td>\n",
       "      <td>2.658824</td>\n",
       "      <td>2.623414</td>\n",
       "      <td>2.699373</td>\n",
       "      <td>0.490782</td>\n",
       "      <td>0.478066</td>\n",
       "      <td>0.492499</td>\n",
       "    </tr>\n",
       "    <tr>\n",
       "      <th>3</th>\n",
       "      <td>0</td>\n",
       "      <td>2.659359</td>\n",
       "      <td>2.623496</td>\n",
       "      <td>2.700214</td>\n",
       "      <td>0.490901</td>\n",
       "      <td>0.477804</td>\n",
       "      <td>0.492882</td>\n",
       "    </tr>\n",
       "    <tr>\n",
       "      <th>4</th>\n",
       "      <td>0</td>\n",
       "      <td>2.659918</td>\n",
       "      <td>2.624527</td>\n",
       "      <td>2.701876</td>\n",
       "      <td>0.491155</td>\n",
       "      <td>0.478174</td>\n",
       "      <td>0.492339</td>\n",
       "    </tr>\n",
       "  </tbody>\n",
       "</table>\n",
       "</div>"
      ],
      "text/plain": [
       "   0         1         2         3         4         5         6\n",
       "0  0  2.661025  2.624276  2.701274  0.490768  0.478549  0.493368\n",
       "1  0  2.660319  2.624661  2.700700  0.491114  0.478722  0.492584\n",
       "2  0  2.658824  2.623414  2.699373  0.490782  0.478066  0.492499\n",
       "3  0  2.659359  2.623496  2.700214  0.490901  0.477804  0.492882\n",
       "4  0  2.659918  2.624527  2.701876  0.491155  0.478174  0.492339"
      ]
     },
     "execution_count": 4,
     "metadata": {},
     "output_type": "execute_result"
    }
   ],
   "source": [
    "df.iloc[:, 0] -= 1\n",
    "df.head()"
   ]
  },
  {
   "cell_type": "code",
   "execution_count": 5,
   "id": "2d915823",
   "metadata": {},
   "outputs": [
    {
     "name": "stderr",
     "output_type": "stream",
     "text": [
      "C:\\Users\\mehul\\AppData\\Local\\Temp\\ipykernel_16040\\828725169.py:8: SettingWithCopyWarning: \n",
      "A value is trying to be set on a copy of a slice from a DataFrame\n",
      "\n",
      "See the caveats in the documentation: https://pandas.pydata.org/pandas-docs/stable/user_guide/indexing.html#returning-a-view-versus-a-copy\n",
      "  df_0.drop(df_0.columns[0:1], axis=1, inplace=True)\n",
      "C:\\Users\\mehul\\AppData\\Local\\Temp\\ipykernel_16040\\828725169.py:9: SettingWithCopyWarning: \n",
      "A value is trying to be set on a copy of a slice from a DataFrame\n",
      "\n",
      "See the caveats in the documentation: https://pandas.pydata.org/pandas-docs/stable/user_guide/indexing.html#returning-a-view-versus-a-copy\n",
      "  df_1.drop(df_1.columns[0:1], axis=1, inplace=True)\n",
      "C:\\Users\\mehul\\AppData\\Local\\Temp\\ipykernel_16040\\828725169.py:11: SettingWithCopyWarning: \n",
      "A value is trying to be set on a copy of a slice from a DataFrame\n",
      "\n",
      "See the caveats in the documentation: https://pandas.pydata.org/pandas-docs/stable/user_guide/indexing.html#returning-a-view-versus-a-copy\n",
      "  df_2.drop(df_2.columns[0:1], axis=1, inplace=True)\n",
      "C:\\Users\\mehul\\AppData\\Local\\Temp\\ipykernel_16040\\828725169.py:13: SettingWithCopyWarning: \n",
      "A value is trying to be set on a copy of a slice from a DataFrame\n",
      "\n",
      "See the caveats in the documentation: https://pandas.pydata.org/pandas-docs/stable/user_guide/indexing.html#returning-a-view-versus-a-copy\n",
      "  df_3.drop(df_3.columns[0:1], axis=1, inplace=True)\n",
      "C:\\Users\\mehul\\AppData\\Local\\Temp\\ipykernel_16040\\828725169.py:14: SettingWithCopyWarning: \n",
      "A value is trying to be set on a copy of a slice from a DataFrame\n",
      "\n",
      "See the caveats in the documentation: https://pandas.pydata.org/pandas-docs/stable/user_guide/indexing.html#returning-a-view-versus-a-copy\n",
      "  df_4.drop(df_4.columns[0:1], axis=1, inplace=True)\n",
      "C:\\Users\\mehul\\AppData\\Local\\Temp\\ipykernel_16040\\828725169.py:15: SettingWithCopyWarning: \n",
      "A value is trying to be set on a copy of a slice from a DataFrame\n",
      "\n",
      "See the caveats in the documentation: https://pandas.pydata.org/pandas-docs/stable/user_guide/indexing.html#returning-a-view-versus-a-copy\n",
      "  df_5.drop(df_5.columns[0:1], axis=1, inplace=True)\n",
      "C:\\Users\\mehul\\AppData\\Local\\Temp\\ipykernel_16040\\828725169.py:16: SettingWithCopyWarning: \n",
      "A value is trying to be set on a copy of a slice from a DataFrame\n",
      "\n",
      "See the caveats in the documentation: https://pandas.pydata.org/pandas-docs/stable/user_guide/indexing.html#returning-a-view-versus-a-copy\n",
      "  df_6.drop(df_6.columns[0:1], axis=1, inplace=True)\n"
     ]
    }
   ],
   "source": [
    "df_0 = df[df.iloc[:, 0] == 0]\n",
    "df_1 = df[df.iloc[:, 0] == 1]\n",
    "df_2 = df[df.iloc[:, 0] == 2]\n",
    "df_3 = df[df.iloc[:, 0] == 3]\n",
    "df_4 = df[df.iloc[:, 0] == 4]\n",
    "df_5 = df[df.iloc[:, 0] == 5]\n",
    "df_6 = df[df.iloc[:, 0] == 6]\n",
    "df_0.drop(df_0.columns[0:1], axis=1, inplace=True)\n",
    "df_1.drop(df_1.columns[0:1], axis=1, inplace=True)\n",
    "\n",
    "df_2.drop(df_2.columns[0:1], axis=1, inplace=True)\n",
    "\n",
    "df_3.drop(df_3.columns[0:1], axis=1, inplace=True)\n",
    "df_4.drop(df_4.columns[0:1], axis=1, inplace=True)\n",
    "df_5.drop(df_5.columns[0:1], axis=1, inplace=True)\n",
    "df_6.drop(df_6.columns[0:1], axis=1, inplace=True)\n",
    "\n"
   ]
  },
  {
   "cell_type": "code",
   "execution_count": 6,
   "id": "6bbd04b5",
   "metadata": {},
   "outputs": [
    {
     "name": "stdout",
     "output_type": "stream",
     "text": [
      "            1         2         3         4         5         6\n",
      "758  2.638303  2.602147  2.674996  0.807445  0.787841  0.799688\n",
      "759  2.639261  2.601776  2.674889  0.805906  0.786128  0.798595\n",
      "760  2.637713  2.600656  2.673487  0.804641  0.784271  0.798060\n",
      "761  2.637658  2.600486  2.673771  0.803147  0.782514  0.797477\n",
      "762  2.638693  2.600891  2.673654  0.802208  0.781319  0.795606\n",
      "763  2.638221  2.600729  2.674951  0.800188  0.779803  0.795084\n",
      "764  2.638303  2.602147  2.674996  0.807445  0.787841  0.799688\n",
      "765  2.639261  2.601776  2.674889  0.805906  0.786128  0.798595\n",
      "766  2.637713  2.600656  2.673487  0.804641  0.784271  0.798060\n",
      "767  2.637658  2.600486  2.673771  0.803147  0.782514  0.797477\n",
      "768  2.650827  2.608411  2.682292  0.856256  0.836880  0.847013\n",
      "769  2.652089  2.609181  2.682892  0.857280  0.837079  0.846980\n",
      "770  2.650468  2.608143  2.682578  0.857336  0.837601  0.847664\n",
      "771  2.647940  2.606494  2.680609  0.857952  0.838779  0.848282\n",
      "772  2.648501  2.606822  2.681451  0.858399  0.839132  0.849033\n",
      "773  2.649403  2.607868  2.680983  0.859245  0.838522  0.849657\n",
      "774  2.650977  2.609000  2.682617  0.856795  0.836699  0.847418\n",
      "775  2.653212  2.609516  2.683615  0.857133  0.836351  0.847597\n",
      "776  2.649549  2.607351  2.681842  0.857462  0.838199  0.848157\n",
      "777  2.649483  2.606308  2.681787  0.858053  0.838635  0.849082\n",
      "778  2.642000  2.605126  2.678911  0.849201  0.829710  0.843163\n",
      "779  2.640762  2.603945  2.678396  0.848768  0.830192  0.844275\n",
      "780  2.640960  2.604793  2.678446  0.848640  0.830029  0.843615\n",
      "781  2.642000  2.605126  2.678911  0.849201  0.829710  0.843163\n",
      "782  2.640762  2.603945  2.678396  0.848768  0.830192  0.844275\n",
      "783  2.640960  2.604793  2.678446  0.848640  0.830029  0.843615\n",
      "784  2.642000  2.605126  2.678911  0.849201  0.829710  0.843163\n",
      "785  2.640762  2.603945  2.678396  0.848768  0.830192  0.844275\n",
      "786  2.640960  2.604793  2.678446  0.848640  0.830029  0.843615\n",
      "787  2.642000  2.605126  2.678911  0.849201  0.829710  0.843163\n"
     ]
    }
   ],
   "source": [
    "print(df_6)"
   ]
  },
  {
   "cell_type": "code",
   "execution_count": 7,
   "id": "ed96fdd2",
   "metadata": {},
   "outputs": [
    {
     "data": {
      "image/png": "[encoded data removed]",
      "text/plain": [
       "<Figure size 432x288 with 1 Axes>"
      ]
     },
     "metadata": {
      "needs_background": "light"
     },
     "output_type": "display_data"
    }
   ],
   "source": [
    "plt.plot(df_0[4])\n",
    "plt.plot(df_1[4])\n",
    "plt.plot(df_2[4])\n",
    "plt.plot(df_3[4])\n",
    "plt.plot(df_4[4])\n",
    "plt.plot(df_5[4])\n",
    "plt.plot(df_6[4])\n",
    "plt.show()"
   ]
  },
  {
   "cell_type": "code",
   "execution_count": 8,
   "id": "e30699bb",
   "metadata": {},
   "outputs": [],
   "source": [
    "X=df[df.columns[1:]]\n",
    "Y=df[df.columns[0:1]]\n",
    "Y=y =np.array( pd.Series.ravel(Y))"
   ]
  },
  {
   "cell_type": "code",
   "execution_count": 9,
   "id": "21c5f470",
   "metadata": {},
   "outputs": [
    {
     "data": {
      "text/html": [
       "<div>\n",
       "<style scoped>\n",
       "    .dataframe tbody tr th:only-of-type {\n",
       "        vertical-align: middle;\n",
       "    }\n",
       "\n",
       "    .dataframe tbody tr th {\n",
       "        vertical-align: top;\n",
       "    }\n",
       "\n",
       "    .dataframe thead th {\n",
       "        text-align: right;\n",
       "    }\n",
       "</style>\n",
       "<table border=\"1\" class=\"dataframe\">\n",
       "  <thead>\n",
       "    <tr style=\"text-align: right;\">\n",
       "      <th></th>\n",
       "      <th>1</th>\n",
       "      <th>2</th>\n",
       "      <th>3</th>\n",
       "      <th>4</th>\n",
       "      <th>5</th>\n",
       "      <th>6</th>\n",
       "    </tr>\n",
       "  </thead>\n",
       "  <tbody>\n",
       "    <tr>\n",
       "      <th>0</th>\n",
       "      <td>2.661025</td>\n",
       "      <td>2.624276</td>\n",
       "      <td>2.701274</td>\n",
       "      <td>0.490768</td>\n",
       "      <td>0.478549</td>\n",
       "      <td>0.493368</td>\n",
       "    </tr>\n",
       "    <tr>\n",
       "      <th>1</th>\n",
       "      <td>2.660319</td>\n",
       "      <td>2.624661</td>\n",
       "      <td>2.700700</td>\n",
       "      <td>0.491114</td>\n",
       "      <td>0.478722</td>\n",
       "      <td>0.492584</td>\n",
       "    </tr>\n",
       "    <tr>\n",
       "      <th>2</th>\n",
       "      <td>2.658824</td>\n",
       "      <td>2.623414</td>\n",
       "      <td>2.699373</td>\n",
       "      <td>0.490782</td>\n",
       "      <td>0.478066</td>\n",
       "      <td>0.492499</td>\n",
       "    </tr>\n",
       "    <tr>\n",
       "      <th>3</th>\n",
       "      <td>2.659359</td>\n",
       "      <td>2.623496</td>\n",
       "      <td>2.700214</td>\n",
       "      <td>0.490901</td>\n",
       "      <td>0.477804</td>\n",
       "      <td>0.492882</td>\n",
       "    </tr>\n",
       "    <tr>\n",
       "      <th>4</th>\n",
       "      <td>2.659918</td>\n",
       "      <td>2.624527</td>\n",
       "      <td>2.701876</td>\n",
       "      <td>0.491155</td>\n",
       "      <td>0.478174</td>\n",
       "      <td>0.492339</td>\n",
       "    </tr>\n",
       "  </tbody>\n",
       "</table>\n",
       "</div>"
      ],
      "text/plain": [
       "          1         2         3         4         5         6\n",
       "0  2.661025  2.624276  2.701274  0.490768  0.478549  0.493368\n",
       "1  2.660319  2.624661  2.700700  0.491114  0.478722  0.492584\n",
       "2  2.658824  2.623414  2.699373  0.490782  0.478066  0.492499\n",
       "3  2.659359  2.623496  2.700214  0.490901  0.477804  0.492882\n",
       "4  2.659918  2.624527  2.701876  0.491155  0.478174  0.492339"
      ]
     },
     "execution_count": 9,
     "metadata": {},
     "output_type": "execute_result"
    }
   ],
   "source": [
    "X.head()"
   ]
  },
  {
   "cell_type": "code",
   "execution_count": null,
   "id": "af883fcf",
   "metadata": {},
   "outputs": [],
   "source": []
  },
  {
   "cell_type": "code",
   "execution_count": 10,
   "id": "5aac1d5c",
   "metadata": {},
   "outputs": [
    {
     "data": {
      "text/html": [
       "<div>\n",
       "<style scoped>\n",
       "    .dataframe tbody tr th:only-of-type {\n",
       "        vertical-align: middle;\n",
       "    }\n",
       "\n",
       "    .dataframe tbody tr th {\n",
       "        vertical-align: top;\n",
       "    }\n",
       "\n",
       "    .dataframe thead th {\n",
       "        text-align: right;\n",
       "    }\n",
       "</style>\n",
       "<table border=\"1\" class=\"dataframe\">\n",
       "  <thead>\n",
       "    <tr style=\"text-align: right;\">\n",
       "      <th></th>\n",
       "      <th>1</th>\n",
       "      <th>2</th>\n",
       "      <th>3</th>\n",
       "      <th>4</th>\n",
       "      <th>5</th>\n",
       "      <th>6</th>\n",
       "    </tr>\n",
       "  </thead>\n",
       "  <tbody>\n",
       "    <tr>\n",
       "      <th>0</th>\n",
       "      <td>0.878327</td>\n",
       "      <td>0.849753</td>\n",
       "      <td>0.854832</td>\n",
       "      <td>0.291733</td>\n",
       "      <td>0.287887</td>\n",
       "      <td>0.292059</td>\n",
       "    </tr>\n",
       "    <tr>\n",
       "      <th>1</th>\n",
       "      <td>0.877974</td>\n",
       "      <td>0.849965</td>\n",
       "      <td>0.854529</td>\n",
       "      <td>0.291941</td>\n",
       "      <td>0.287992</td>\n",
       "      <td>0.291587</td>\n",
       "    </tr>\n",
       "    <tr>\n",
       "      <th>2</th>\n",
       "      <td>0.877226</td>\n",
       "      <td>0.849276</td>\n",
       "      <td>0.853828</td>\n",
       "      <td>0.291742</td>\n",
       "      <td>0.287594</td>\n",
       "      <td>0.291536</td>\n",
       "    </tr>\n",
       "    <tr>\n",
       "      <th>3</th>\n",
       "      <td>0.877494</td>\n",
       "      <td>0.849322</td>\n",
       "      <td>0.854272</td>\n",
       "      <td>0.291813</td>\n",
       "      <td>0.287435</td>\n",
       "      <td>0.291766</td>\n",
       "    </tr>\n",
       "    <tr>\n",
       "      <th>4</th>\n",
       "      <td>0.877773</td>\n",
       "      <td>0.849891</td>\n",
       "      <td>0.855150</td>\n",
       "      <td>0.291966</td>\n",
       "      <td>0.287659</td>\n",
       "      <td>0.291439</td>\n",
       "    </tr>\n",
       "  </tbody>\n",
       "</table>\n",
       "</div>"
      ],
      "text/plain": [
       "          1         2         3         4         5         6\n",
       "0  0.878327  0.849753  0.854832  0.291733  0.287887  0.292059\n",
       "1  0.877974  0.849965  0.854529  0.291941  0.287992  0.291587\n",
       "2  0.877226  0.849276  0.853828  0.291742  0.287594  0.291536\n",
       "3  0.877494  0.849322  0.854272  0.291813  0.287435  0.291766\n",
       "4  0.877773  0.849891  0.855150  0.291966  0.287659  0.291439"
      ]
     },
     "execution_count": 10,
     "metadata": {},
     "output_type": "execute_result"
    }
   ],
   "source": [
    "scaler = MinMaxScaler()\n",
    "scaled_data = scaler.fit_transform(X)\n",
    "scaled_X = pd.DataFrame(scaled_data, columns=X.columns)\n",
    "scaled_X.head()"
   ]
  },
  {
   "cell_type": "code",
   "execution_count": 11,
   "id": "68d15ca1",
   "metadata": {},
   "outputs": [],
   "source": [
    "X_train, X_test, y_train, y_test = train_test_split(\n",
    "    X, Y, test_size=0.5 , random_state=40, shuffle=True)"
   ]
  },
  {
   "cell_type": "code",
   "execution_count": 12,
   "id": "b34b1a01",
   "metadata": {},
   "outputs": [
    {
     "data": {
      "text/plain": [
       "(394,)"
      ]
     },
     "execution_count": 12,
     "metadata": {},
     "output_type": "execute_result"
    }
   ],
   "source": [
    "y_train.shape\n"
   ]
  },
  {
   "cell_type": "code",
   "execution_count": 18,
   "id": "5442a2ea",
   "metadata": {},
   "outputs": [
    {
     "name": "stdout",
     "output_type": "stream",
     "text": [
      "Test Accuracy: 0.8705583756345178\n",
      "Train Accuracy:  0.8908629441624365\n"
     ]
    }
   ],
   "source": [
    "svm_classifier_poly = SVC(kernel='poly', degree=4)\n",
    "\n",
    "# Train the classifier on the training data\n",
    "svm_classifier_poly.fit(X_train, y_train)\n",
    "\n",
    "# Predict the labels for the test set\n",
    "y_pred = svm_classifier_poly.predict(X_test)\n",
    "\n",
    "# Calculate accuracy\n",
    "accuracy = accuracy_score(y_test, y_pred)\n",
    "print(\"Test Accuracy:\", accuracy)\n",
    "print(\"Train Accuracy: \",accuracy_score(svm_classifier_poly.predict(X_train),y_train))"
   ]
  },
  {
   "cell_type": "code",
   "execution_count": 19,
   "id": "2950c19e",
   "metadata": {},
   "outputs": [
    {
     "name": "stdout",
     "output_type": "stream",
     "text": [
      "Test Accuracy: 0.682741116751269\n",
      "Train Accuracy:  0.7030456852791879\n"
     ]
    }
   ],
   "source": [
    "svm_classifier_lin = SVC(kernel='linear')\n",
    "\n",
    "# Train the classifier on the training data\n",
    "svm_classifier_lin.fit(X_train, y_train)\n",
    "\n",
    "# Predict the labels for the test set\n",
    "y_pred = svm_classifier_lin.predict(X_test)\n",
    "\n",
    "# Calculate accuracy\n",
    "accuracy = accuracy_score(y_test, y_pred)\n",
    "print(\"Test Accuracy:\", accuracy)\n",
    "print(\"Train Accuracy: \",accuracy_score(svm_classifier_lin.predict(X_train),y_train))"
   ]
  },
  {
   "cell_type": "code",
   "execution_count": 20,
   "id": "feb949ef",
   "metadata": {
    "scrolled": true
   },
   "outputs": [
    {
     "name": "stdout",
     "output_type": "stream",
     "text": [
      "Test Accuracy: 0.6852791878172588\n",
      "Train Accuracy:  0.7081218274111675\n"
     ]
    }
   ],
   "source": [
    "svm_classifier_rbf = SVC(kernel='rbf')\n",
    "\n",
    "# Train the classifier on the training data\n",
    "svm_classifier_rbf.fit(X_train, y_train)\n",
    "\n",
    "# Predict the labels for the test set\n",
    "y_pred = svm_classifier_rbf.predict(X_test)\n",
    "\n",
    "# Calculate accuracy\n",
    "accuracy = accuracy_score(y_test, y_pred)\n",
    "print(\"Test Accuracy:\", accuracy)\n",
    "print(\"Train Accuracy: \",accuracy_score(svm_classifier_rbf.predict(X_train),y_train))"
   ]
  },
  {
   "cell_type": "code",
   "execution_count": 21,
   "id": "c5e997dc",
   "metadata": {},
   "outputs": [
    {
     "name": "stdout",
     "output_type": "stream",
     "text": [
      "Test Accuracy: 0.5710659898477157\n",
      "Train Accuracy:  0.5710659898477157\n"
     ]
    }
   ],
   "source": [
    "svm_classifier_sig = SVC(kernel='sigmoid')\n",
    "\n",
    "# Train the classifier on the training data\n",
    "svm_classifier_sig.fit(X_train, y_train)\n",
    "\n",
    "# Predict the labels for the test set\n",
    "y_pred = svm_classifier_sig.predict(X_test)\n",
    "\n",
    "# Calculate accuracy\n",
    "accuracy = accuracy_score(y_test, y_pred)\n",
    "print(\"Test Accuracy:\", accuracy)\n",
    "print(\"Train Accuracy: \",accuracy_score(svm_classifier_sig.predict(X_train),y_train))"
   ]
  },
  {
   "cell_type": "code",
   "execution_count": null,
   "id": "71128e99",
   "metadata": {},
   "outputs": [],
   "source": []
  }
 ],
 "metadata": {
  "kernelspec": {
   "display_name": "Python 3 (ipykernel)",
   "language": "python",
   "name": "python3"
  },
  "language_info": {
   "codemirror_mode": {
    "name": "ipython",
    "version": 3
   },
   "file_extension": ".py",
   "mimetype": "text/x-python",
   "name": "python",
   "nbconvert_exporter": "python",
   "pygments_lexer": "ipython3",
   "version": "3.9.12"
  }
 },
 "nbformat": 4,
 "nbformat_minor": 5
}
