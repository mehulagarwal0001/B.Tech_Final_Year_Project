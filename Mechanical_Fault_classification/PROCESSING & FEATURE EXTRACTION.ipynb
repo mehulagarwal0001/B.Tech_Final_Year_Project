{
 "cells": [
  {
   "cell_type": "code",
   "execution_count": 3,
   "id": "68706c34",
   "metadata": {},
   "outputs": [],
   "source": [
    "!pip install numpy pandas matplotlib seaborn plotly opendatasets --quiet\n"
   ]
  },
  {
   "cell_type": "code",
   "execution_count": 4,
   "id": "523f7887",
   "metadata": {},
   "outputs": [],
   "source": [
    "from numpy.fft import rfft, rfftfreq\n",
    "from sklearn import preprocessing\n",
    "import os\n",
    "import pandas as pd\n",
    "import numpy as np\n",
    "import glob\n",
    "import timeit"
   ]
  },
  {
   "cell_type": "code",
   "execution_count": 5,
   "id": "a160fd07",
   "metadata": {},
   "outputs": [],
   "source": [
    "normal=\"VBL-VA001/VBL-VA001/normal\"\n",
    "# assgning the path to variable\n",
    "bearing = \"VBL-VA001/VBL-VA001/bearing\"\n",
    "unbalance=\"VBL-VA001/VBL-VA001/unbalance\"\n",
    "normal_file_names = glob.glob(normal + '/*.csv')\n",
    "# to return all file with.csv extension in normal\n",
    "bearing_file_names= glob.glob(bearing + '/*.csv')\n",
    "unbalance_file_names= glob.glob(unbalance + '/*.csv')\n",
    "\n",
    "\n"
   ]
  },
  {
   "cell_type": "code",
   "execution_count": 6,
   "id": "7fdaf6d9",
   "metadata": {},
   "outputs": [],
   "source": [
    "\n",
    "def std(data):\n",
    "    '''Standard Deviation features'''\n",
    "    data = np.asarray(data)\n",
    "    stdev = pd.DataFrame(np.std(data, axis=1))\n",
    "    return stdev\n",
    "\n",
    "def mean(data):\n",
    "    '''Mean features'''\n",
    "    data = np.asarray(data)\n",
    "    M = pd.DataFrame(np.mean(data, axis=1))\n",
    "    return M\n",
    "\n",
    "def pp(data):\n",
    "    '''Peak-to-Peak features'''\n",
    "    data = np.asarray(data)\n",
    "    PP = pd.DataFrame(np.max(data, axis=1) - np.min(data, axis=1))\n",
    "    return PP\n",
    "\n",
    "def Impulsef(data):\n",
    "    '''Impulse factor features'''\n",
    "    data = np.asarray(data)\n",
    "    impulse = pd.DataFrame(np.max(data)/Ab_mean(data))\n",
    "    return impulse\n",
    "\n",
    "def rms(data):\n",
    "    '''RMS features'''\n",
    "    data = np.asarray(data)\n",
    "    Rms = pd.DataFrame(np.sqrt(np.mean(data**2, axis=1)))\n",
    "    return Rms\n",
    "\n",
    "def kurtosis(data):\n",
    "    '''Kurtosis features'''\n",
    "    data = pd.DataFrame(data)\n",
    "    kurt = data.kurt(axis=1)\n",
    "    return kurt\n",
    "\n",
    "def skew(data):\n",
    "    '''Skewness features'''\n",
    "    data = pd.DataFrame(data)\n",
    "    skw = data.skew(axis=1)\n",
    "    return skw\n",
    "\n",
    "def Shapef(data):\n",
    "    '''Shape factor features'''\n",
    "    data = np.asarray(data)\n",
    "    shapef = pd.DataFrame(rms(data)/Ab_mean(data))\n",
    "    return shapef\n",
    "\n",
    "\n",
    "\n",
    "\n",
    "\n",
    "def crestf(data):\n",
    "    '''Crest factor features'''\n",
    "    data = np.asarray(data)\n",
    "    crest = pd.DataFrame(np.max(data)/rms(data))\n",
    "    return crest\n",
    "\n",
    "\n",
    "\n",
    "\n",
    "def Variance(data):\n",
    "    '''Variance features'''\n",
    "    data = np.asarray(data)\n",
    "    Var = pd.DataFrame(np.var(data, axis=1))\n",
    "    return Var\n",
    "\n",
    "# Helper functions to calculate features\n",
    "def Ab_mean(data):\n",
    "    data = np.asarray(data)\n",
    "    Abm = pd.DataFrame(np.mean(np.absolute(data), axis=1))\n",
    "    return Abm\n",
    "\n",
    "\n",
    "def SQRT_AMPL(data):\n",
    "    data = np.asarray(data)\n",
    "    SQRTA = pd.DataFrame((np.mean(np.sqrt(np.absolute(data, axis=1))))**2)\n",
    "    return SQRTA\n",
    "\n",
    "\n",
    "def clearancef(data):\n",
    "    data = np.asarray(data)\n",
    "    clrf = pd.DataFrame(np.max(data, axis=1)/SQRT_AMPL(data))\n",
    "    return clrf"
   ]
  },
  {
   "cell_type": "code",
   "execution_count": 7,
   "id": "5f164fa6",
   "metadata": {},
   "outputs": [],
   "source": [
    "def data_1x(normal_file_names):\n",
    "    data1x = pd.DataFrame()\n",
    "    for f1x in normal_file_names:\n",
    "        df1x = pd.read_csv(f1x, usecols=[1], header=None)  # read the csv file\n",
    "        data1x = pd.concat([data1x, df1x], axis=1, ignore_index=True)\n",
    "    return data1x"
   ]
  },
  {
   "cell_type": "code",
   "execution_count": 8,
   "id": "53db445c",
   "metadata": {},
   "outputs": [],
   "source": [
    "def data_1y(normal_file_names):\n",
    "    data1y = pd.DataFrame()\n",
    "    for f1y in normal_file_names:\n",
    "        df1y = pd.read_csv(f1y, usecols=[2], header=None)  # read the csv file\n",
    "        data1y = pd.concat([data1y, df1y], axis=1, ignore_index=True)\n",
    "    return data1y"
   ]
  },
  {
   "cell_type": "code",
   "execution_count": 9,
   "id": "812c4523",
   "metadata": {},
   "outputs": [],
   "source": [
    "def data_1z(normal_file_names):\n",
    "    data1z = pd.DataFrame()\n",
    "    for f1z in normal_file_names:\n",
    "        df1z = pd.read_csv(f1z, usecols=[3], header=None)  # read the csv file\n",
    "        data1z = pd.concat([data1z, df1z], axis=1, ignore_index=True)\n",
    "    return data1z\n",
    "\n"
   ]
  },
  {
   "cell_type": "code",
   "execution_count": 11,
   "id": "202a08aa",
   "metadata": {},
   "outputs": [],
   "source": [
    "def NormalizeData(data):  \n",
    "    data_max = np.max(data)\n",
    "    data_min = np.min(data)\n",
    "    return (data - np.min(data_min)) / (np.max(data_max) - np.min(data_min))\n",
    "#     print(data_max)\n",
    "# Normalise (0-1)"
   ]
  },
  {
   "cell_type": "code",
   "execution_count": 12,
   "id": "efeb1f9b",
   "metadata": {
    "scrolled": true
   },
   "outputs": [],
   "source": [
    "def ProcessedFile(name):\n",
    "    data_x =np.array(data_1x(name).T.dropna(axis=1))\n",
    "    data_y =np.array(data_1y(name).T.dropna(axis=1))\n",
    "    data_z =np.array(data_1z(name).T.dropna(axis=1))\n",
    "    data_x=NormalizeData(data_x)\n",
    "    data_y=NormalizeData(data_y)\n",
    "    data_z=NormalizeData(data_z)\n",
    "    data_1x_shape=Shapef(data_x)\n",
    "    data_1y_shape=Shapef(data_y)\n",
    "    data_1z_shape=Shapef(data_z)\n",
    "    data_shape = pd.concat([data_1x_shape,data_1y_shape,data_1z_shape], axis=1,ignore_index=True)\n",
    "    data_1x_std=std(data_x)\n",
    "    data_1y_std=std(data_y)\n",
    "    data_1z_std=std(data_z)\n",
    "    data_std = pd.concat([data_1x_std,data_1y_std,data_1z_std], axis=1,ignore_index=True)\n",
    "    data_1x_mean=mean(data_x)\n",
    "    data_1y_mean=mean(data_y)\n",
    "    data_1z_mean=mean(data_z)\n",
    "    data_mean= pd.concat([data_1x_mean,data_1y_mean,data_1z_mean], axis=1,ignore_index=True)\n",
    "    data_1x_pp=pp(data_x)\n",
    "    data_1y_pp=pp(data_y)\n",
    "    data_1z_pp=pp(data_z)\n",
    "    data_pp= pd.concat([data_1x_pp,data_1y_pp,data_1z_pp], axis=1,ignore_index=True)\n",
    "    data_1x_variance=Variance(data_x)\n",
    "    data_1y_variance=Variance(data_y)\n",
    "    data_1z_variance=Variance(data_z)\n",
    "    data_variance= pd.concat([data_1x_variance,data_1y_variance,data_1z_variance], axis=1,ignore_index=True)\n",
    "    data_1x_rms=rms(data_x)\n",
    "    data_1y_rms=rms(data_y)\n",
    "    data_1z_rms=rms(data_z)\n",
    "    data_rms= pd.concat([data_1x_rms,data_1y_rms,data_1z_rms], axis=1,ignore_index=True)\n",
    "    data_1x_impulse=Impulsef(data_x)\n",
    "    data_1y_impulse=Impulsef(data_y)\n",
    "    data_1z_impulse=Impulsef(data_z)\n",
    "    data_impulse= pd.concat([data_1x_impulse,data_1y_impulse,data_1z_impulse], axis=1,ignore_index=True)\n",
    "    data_1x_crest=crestf(data_x)\n",
    "    data_1y_crest=crestf(data_y)\n",
    "    data_1z_crest=crestf(data_z)\n",
    "    data_crest= pd.concat([data_1x_crest,data_1y_crest,data_1z_crest], axis=1,ignore_index=True)\n",
    "    data_1x_kurt=kurtosis(data_x)\n",
    "    data_1y_kurt=kurtosis(data_y)\n",
    "    data_1z_kurt=kurtosis(data_z)\n",
    "    data_kurt= pd.concat([data_1x_kurt,data_1y_kurt,data_1z_kurt], axis=1,ignore_index=True)\n",
    "    data_1x_sk=skew(data_x)\n",
    "    data_1y_sk=skew(data_y)\n",
    "    data_1z_sk=skew(data_z)\n",
    "    data_sk= pd.concat([data_1x_sk,data_1y_sk,data_1z_sk], axis=1,ignore_index=True)\n",
    "    x_1 = pd.concat([data_shape, data_std, data_mean, data_pp, data_variance,\n",
    "                data_rms, data_impulse, data_crest, data_kurt,data_sk], axis=1, ignore_index=True)\n",
    "    return x_1\n",
    "    \n",
    "    "
   ]
  },
  {
   "cell_type": "code",
   "execution_count": 28,
   "id": "53151ce5",
   "metadata": {},
   "outputs": [],
   "source": [
    "# data_normal_x = NormalizeData(data_normal_x)\n",
    "# data_normal_y = NormalizeData(data_normal_y)\n",
    "# data_normal_z = NormalizeData(data_normal_z)\n",
    "# data_bearing_x = NormalizeData(data_bearing_x)\n",
    "# data_bearing_y = NormalizeData(data_bearing_y)\n",
    "# data_bearing_z = NormalizeData(data_bearing_z)\n",
    "# data_unbalance_x = NormalizeData(data_unbalance_x)\n",
    "# data_unbalance_y = NormalizeData(data_unbalance_y)\n",
    "# data_unbalance_z = NormalizeData(data_unbalance_z)\n",
    "\n"
   ]
  },
  {
   "cell_type": "code",
   "execution_count": 29,
   "id": "3b6e27d8",
   "metadata": {},
   "outputs": [],
   "source": [
    "# data_1x_shape=Shapef(data_normal_x)\n",
    "# data_1y_shape=Shapef(data_normal_y)\n",
    "# data_1z_shape=Shapef(data_normal_z)\n",
    "# data_2x_shape=Shapef(data_bearing_x)\n",
    "# data_2y_shape=Shapef(data_bearing_y)\n",
    "# data_2z_shape=Shapef(data_bearing_z)\n",
    "# data_3x_shape=Shapef(data_unbalance_x)\n",
    "# data_3y_shape=Shapef(data_unbalance_y)\n",
    "# data_3z_shape=Shapef(data_unbalance_z)\n",
    "# data_shape = pd.concat([data_1x_shape,data_1y_shape,data_1z_shape], axis=1,ignore_index=True)\n",
    "# data2_shape = pd.concat([data_2x_shape,data_2y_shape,data_2z_shape], axis=1,ignore_index=True)\n",
    "# data3_shape = pd.concat([data_3x_shape,data_3y_shape,data_3z_shape], axis=1,ignore_index=True)\n"
   ]
  },
  {
   "cell_type": "code",
   "execution_count": 30,
   "id": "8575aee9",
   "metadata": {},
   "outputs": [
    {
     "data": {
      "text/plain": [
       "(1000, 3)"
      ]
     },
     "execution_count": 30,
     "metadata": {},
     "output_type": "execute_result"
    }
   ],
   "source": [
    "# data3_shape.shape\n"
   ]
  },
  {
   "cell_type": "code",
   "execution_count": 31,
   "id": "1e909489",
   "metadata": {},
   "outputs": [
    {
     "data": {
      "text/plain": [
       "(1000, 3)"
      ]
     },
     "execution_count": 31,
     "metadata": {},
     "output_type": "execute_result"
    }
   ],
   "source": [
    "# data_1x_std=std(data_normal_x)\n",
    "# data_1y_std=std(data_normal_y)\n",
    "# data_1z_std=std(data_normal_z)\n",
    "# data_std = pd.concat([data_1x_std,data_1y_std,data_1z_std], axis=1,ignore_index=True)\n",
    "# data_2x_std=std(data_bearing_x)\n",
    "# data_2y_std=std(data_bearing_y)\n",
    "# data_2z_std=std(data_bearing_z)\n",
    "# data_3x_std=std(data_unbalance_x)\n",
    "# data_3y_std=std(data_unbalance_y)\n",
    "# data_3z_std=std(data_unbalance_z)\n",
    "# data2_std = pd.concat([data_2x_std,data_2y_std,data_2z_std], axis=1,ignore_index=True)\n",
    "# data3_std = pd.concat([data_3x_std,data_3y_std,data_3z_std], axis=1,ignore_index=True)\n",
    "# data3_std.shape"
   ]
  },
  {
   "cell_type": "code",
   "execution_count": 32,
   "id": "f8f6beb4",
   "metadata": {},
   "outputs": [
    {
     "data": {
      "text/plain": [
       "(1000, 3)"
      ]
     },
     "execution_count": 32,
     "metadata": {},
     "output_type": "execute_result"
    }
   ],
   "source": [
    "# data_1x_mean=mean(data_normal_x)\n",
    "# data_1y_mean=mean(data_normal_y)\n",
    "# data_1z_mean=mean(data_normal_z)\n",
    "# data_mean= pd.concat([data_1x_mean,data_1y_mean,data_1z_mean], axis=1,ignore_index=True)\n",
    "# data_2x_mean=mean(data_bearing_x)\n",
    "# data_2y_mean=mean(data_bearing_y)\n",
    "# data_2z_mean=mean(data_bearing_z)\n",
    "# data_3x_mean=mean(data_unbalance_x)\n",
    "# data_3y_mean=mean(data_unbalance_y)\n",
    "# data_3z_mean=mean(data_unbalance_z)\n",
    "# data2_mean= pd.concat([data_2x_mean,data_2y_mean,data_2z_mean], axis=1,ignore_index=True)\n",
    "# data3_mean= pd.concat([data_3x_mean,data_3y_mean,data_3z_mean], axis=1,ignore_index=True)\n",
    "# data3_mean.shape"
   ]
  },
  {
   "cell_type": "code",
   "execution_count": 33,
   "id": "48e1797f",
   "metadata": {},
   "outputs": [
    {
     "data": {
      "text/plain": [
       "(1000, 3)"
      ]
     },
     "execution_count": 33,
     "metadata": {},
     "output_type": "execute_result"
    }
   ],
   "source": [
    "# data_1x_pp=pp(data_normal_x)\n",
    "# data_1y_pp=pp(data_normal_y)\n",
    "# data_1z_pp=pp(data_normal_z)\n",
    "# data_pp= pd.concat([data_1x_pp,data_1y_pp,data_1z_pp], axis=1,ignore_index=True)\n",
    "# data_2x_pp=pp(data_bearing_x)\n",
    "# data_2y_pp=pp(data_bearing_y)\n",
    "# data_2z_pp=pp(data_bearing_z)\n",
    "# data2_pp= pd.concat([data_2x_pp,data_2y_pp,data_2z_pp], axis=1,ignore_index=True)\n",
    "# data_3x_pp=pp(data_unbalance_x)\n",
    "# data_3y_pp=pp(data_unbalance_y)\n",
    "# data_3z_pp=pp(data_unbalance_z)\n",
    "# data3_pp= pd.concat([data_3x_pp,data_3y_pp,data_3z_pp], axis=1,ignore_index=True)\n",
    "# data3_pp.shape"
   ]
  },
  {
   "cell_type": "code",
   "execution_count": 34,
   "id": "84a23986",
   "metadata": {},
   "outputs": [
    {
     "data": {
      "text/plain": [
       "(1000, 3)"
      ]
     },
     "execution_count": 34,
     "metadata": {},
     "output_type": "execute_result"
    }
   ],
   "source": [
    "# data_1x_variance=Variance(data_normal_x)\n",
    "# data_1y_variance=Variance(data_normal_y)\n",
    "# data_1z_variance=Variance(data_normal_z)\n",
    "# data_variance= pd.concat([data_1x_variance,data_1y_variance,data_1z_variance], axis=1,ignore_index=True)\n",
    "# data_2x_variance=Variance(data_bearing_x)\n",
    "# data_2y_variance=Variance(data_bearing_y)\n",
    "# data_2z_variance=Variance(data_bearing_z)\n",
    "# data2_variance= pd.concat([data_2x_variance,data_2y_variance,data_2z_variance], axis=1,ignore_index=True)\n",
    "# data_3x_variance=Variance(data_unbalance_x)\n",
    "# data_3y_variance=Variance(data_unbalance_y)\n",
    "# data_3z_variance=Variance(data_unbalance_z)\n",
    "# data3_variance= pd.concat([data_3x_variance,data_3y_variance,data_3z_variance], axis=1,ignore_index=True)\n",
    "# data3_variance.shape"
   ]
  },
  {
   "cell_type": "code",
   "execution_count": 35,
   "id": "82f2dd7b",
   "metadata": {},
   "outputs": [
    {
     "data": {
      "text/plain": [
       "(1000, 3)"
      ]
     },
     "execution_count": 35,
     "metadata": {},
     "output_type": "execute_result"
    }
   ],
   "source": [
    "# data_1x_rms=rms(data_normal_x)\n",
    "# data_1y_rms=rms(data_normal_y)\n",
    "# data_1z_rms=rms(data_normal_z)\n",
    "# data_rms= pd.concat([data_1x_rms,data_1y_rms,data_1z_rms], axis=1,ignore_index=True)\n",
    "# data_2x_rms=rms(data_bearing_x)\n",
    "# data_2y_rms=rms(data_bearing_y)\n",
    "# data_2z_rms=rms(data_bearing_z)\n",
    "# data2_rms= pd.concat([data_2x_rms,data_2y_rms,data_2z_rms], axis=1,ignore_index=True)\n",
    "# data_3x_rms=rms(data_unbalance_x)\n",
    "# data_3y_rms=rms(data_unbalance_y)\n",
    "# data_3z_rms=rms(data_unbalance_z)\n",
    "# data3_rms= pd.concat([data_3x_rms,data_3y_rms,data_3z_rms], axis=1,ignore_index=True)\n",
    "# data3_rms.shape"
   ]
  },
  {
   "cell_type": "code",
   "execution_count": 178,
   "id": "64ff7392",
   "metadata": {},
   "outputs": [
    {
     "data": {
      "text/plain": [
       "(1000, 3)"
      ]
     },
     "execution_count": 178,
     "metadata": {},
     "output_type": "execute_result"
    }
   ],
   "source": [
    "# data_1x_impulse=Impulsef(data_normal_x)\n",
    "# data_1y_impulse=Impulsef(data_normal_y)\n",
    "# data_1z_impulse=Impulsef(data_normal_z)\n",
    "# data_impulse= pd.concat([data_1x_impulse,data_1y_impulse,data_1z_impulse], axis=1,ignore_index=True)\n",
    "# data_2x_impulse=Impulsef(data_bearing_x)\n",
    "# data_2y_impulse=Impulsef(data_bearing_y)\n",
    "# data_2z_impulse=Impulsef(data_bearing_z)\n",
    "# data2_impulse= pd.concat([data_2x_impulse,data_2y_impulse,data_2z_impulse], axis=1,ignore_index=True)\n",
    "# data_impulse.shape"
   ]
  },
  {
   "cell_type": "code",
   "execution_count": 179,
   "id": "b94f59a0",
   "metadata": {},
   "outputs": [
    {
     "data": {
      "text/plain": [
       "(1000, 3)"
      ]
     },
     "execution_count": 179,
     "metadata": {},
     "output_type": "execute_result"
    }
   ],
   "source": [
    "# data_1x_crest=crestf(data_normal_x)\n",
    "# data_1y_crest=crestf(data_normal_y)\n",
    "# data_1z_crest=crestf(data_normal_z)\n",
    "# data_crest= pd.concat([data_1x_crest,data_1y_crest,data_1z_crest], axis=1,ignore_index=True)\n",
    "# data_2x_crest=crestf(data_bearing_x)\n",
    "# data_2y_crest=crestf(data_bearing_y)\n",
    "# data_2z_crest=crestf(data_bearing_z)\n",
    "# data2_crest= pd.concat([data_2x_crest,data_2y_crest,data_2z_crest], axis=1,ignore_index=True)\n",
    "# data_crest.shape"
   ]
  },
  {
   "cell_type": "code",
   "execution_count": 180,
   "id": "656a6a9f",
   "metadata": {},
   "outputs": [
    {
     "data": {
      "text/plain": [
       "(1000, 3)"
      ]
     },
     "execution_count": 180,
     "metadata": {},
     "output_type": "execute_result"
    }
   ],
   "source": [
    "# data_1x_kurt=kurtosis(data_normal_x)\n",
    "# data_1y_kurt=kurtosis(data_normal_y)\n",
    "# data_1z_kurt=kurtosis(data_normal_z)\n",
    "# data_kurt= pd.concat([data_1x_kurt,data_1y_kurt,data_1z_kurt], axis=1,ignore_index=True)\n",
    "# data_2x_kurt=kurtosis(data_bearing_x)\n",
    "# data_2y_kurt=kurtosis(data_bearing_y)\n",
    "# data_2z_kurt=kurtosis(data_bearing_z)\n",
    "# data2_kurt= pd.concat([data_2x_kurt,data_2y_kurt,data_2z_kurt], axis=1,ignore_index=True)\n",
    "# data_kurt.shape"
   ]
  },
  {
   "cell_type": "code",
   "execution_count": 181,
   "id": "77928aaa",
   "metadata": {},
   "outputs": [
    {
     "data": {
      "text/plain": [
       "(1000, 3)"
      ]
     },
     "execution_count": 181,
     "metadata": {},
     "output_type": "execute_result"
    }
   ],
   "source": [
    "# data_1x_sk=skew(data_normal_x)\n",
    "# data_1y_sk=skew(data_normal_y)\n",
    "# data_1z_sk=skew(data_normal_z)\n",
    "# data_sk= pd.concat([data_1x_sk,data_1y_sk,data_1z_sk], axis=1,ignore_index=True)\n",
    "# data_2x_sk=skew(data_bearing_x)\n",
    "# data_2y_sk=skew(data_bearing_y)\n",
    "# data_2z_sk=skew(data_bearing_z)\n",
    "# data2_sk= pd.concat([data_2x_sk,data_2y_sk,data_2z_sk], axis=1,ignore_index=True)\n",
    "# data_sk.shape"
   ]
  },
  {
   "cell_type": "code",
   "execution_count": 182,
   "id": "2ab98066",
   "metadata": {},
   "outputs": [
    {
     "data": {
      "text/plain": [
       "(1000, 30)"
      ]
     },
     "execution_count": 182,
     "metadata": {},
     "output_type": "execute_result"
    }
   ],
   "source": [
    "# x_1 = pd.concat([data_shape, data_std, data_mean, data_pp, data_variance,\n",
    "#                 data_rms, data_impulse, data_crest, data_kurt,data_sk], axis=1, ignore_index=True)\n",
    "# x_2 = pd.concat([data2_shape, data2_std, data2_mean, data2_pp, data2_variance,\n",
    "#                 data2_rms, data2_impulse, data2_crest, data2_kurt,data2_sk], axis=1, ignore_index=True)\n",
    "# x_1.shape"
   ]
  },
  {
   "cell_type": "code",
   "execution_count": 183,
   "id": "f2eec5df",
   "metadata": {},
   "outputs": [],
   "source": [
    "# x_1.to_csv('normal_processed.csv', header=False, index=False)\n",
    "# x_2.to_csv('bearing_processed.csv', header=False, index=False)"
   ]
  },
  {
   "cell_type": "code",
   "execution_count": 13,
   "id": "b43190d5",
   "metadata": {},
   "outputs": [],
   "source": [
    "x_1 = ProcessedFile(unbalance_file_names)\n",
    "x_1.to_csv('unbalanced_processed.csv',header=False,index=False)"
   ]
  },
  {
   "cell_type": "code",
   "execution_count": null,
   "id": "2e1ba158",
   "metadata": {},
   "outputs": [],
   "source": []
  }
 ],
 "metadata": {
  "kernelspec": {
   "display_name": "Python 3 (ipykernel)",
   "language": "python",
   "name": "python3"
  },
  "language_info": {
   "codemirror_mode": {
    "name": "ipython",
    "version": 3
   },
   "file_extension": ".py",
   "mimetype": "text/x-python",
   "name": "python",
   "nbconvert_exporter": "python",
   "pygments_lexer": "ipython3",
   "version": "3.11.5"
  }
 },
 "nbformat": 4,
 "nbformat_minor": 5
}
